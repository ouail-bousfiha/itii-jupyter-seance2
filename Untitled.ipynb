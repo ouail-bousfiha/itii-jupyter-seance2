{
 "cells": [
  {
   "cell_type": "code",
   "execution_count": 18,
   "metadata": {},
   "outputs": [
    {
     "ename": "TypeError",
     "evalue": "'Parallelepipede' object is not callable",
     "output_type": "error",
     "traceback": [
      "\u001b[1;31m---------------------------------------------------------------------------\u001b[0m",
      "\u001b[1;31mTypeError\u001b[0m                                 Traceback (most recent call last)",
      "\u001b[1;32m<ipython-input-18-957486a98af7>\u001b[0m in \u001b[0;36m<module>\u001b[1;34m\u001b[0m\n\u001b[0;32m     22\u001b[0m \u001b[0mmyRectangle\u001b[0m \u001b[1;33m=\u001b[0m \u001b[0mRectangle\u001b[0m\u001b[1;33m(\u001b[0m\u001b[1;36m10\u001b[0m\u001b[1;33m,\u001b[0m\u001b[1;36m10\u001b[0m\u001b[1;33m)\u001b[0m\u001b[1;33m\u001b[0m\u001b[1;33m\u001b[0m\u001b[0m\n\u001b[0;32m     23\u001b[0m \u001b[0mmyParallelepipede\u001b[0m \u001b[1;33m=\u001b[0m \u001b[0mParallelepipede\u001b[0m\u001b[1;33m(\u001b[0m\u001b[1;36m10\u001b[0m\u001b[1;33m)\u001b[0m\u001b[1;33m\u001b[0m\u001b[1;33m\u001b[0m\u001b[0m\n\u001b[1;32m---> 24\u001b[1;33m \u001b[0mmyParallelepipede\u001b[0m\u001b[1;33m(\u001b[0m\u001b[0mmyRectangle\u001b[0m\u001b[1;33m)\u001b[0m\u001b[1;33m\u001b[0m\u001b[1;33m\u001b[0m\u001b[0m\n\u001b[0m\u001b[0;32m     25\u001b[0m \u001b[0mprint\u001b[0m\u001b[1;33m(\u001b[0m\u001b[0mmyRectangle\u001b[0m\u001b[1;33m.\u001b[0m\u001b[0mGetS\u001b[0m\u001b[1;33m(\u001b[0m\u001b[1;33m)\u001b[0m\u001b[1;33m)\u001b[0m\u001b[1;33m\u001b[0m\u001b[1;33m\u001b[0m\u001b[0m\n\u001b[0;32m     26\u001b[0m \u001b[0mprint\u001b[0m\u001b[1;33m(\u001b[0m\u001b[0mmyRectangle\u001b[0m\u001b[1;33m.\u001b[0m\u001b[0mGetP\u001b[0m\u001b[1;33m(\u001b[0m\u001b[1;33m)\u001b[0m\u001b[1;33m)\u001b[0m\u001b[1;33m\u001b[0m\u001b[1;33m\u001b[0m\u001b[0m\n",
      "\u001b[1;31mTypeError\u001b[0m: 'Parallelepipede' object is not callable"
     ]
    }
   ],
   "source": [
    "class Rectangle:\n",
    "    def __init__(self,largeur ,longueur):\n",
    "        self.L, self.l = longueur, largeur\n",
    "             \n",
    "    def GetS(self):\n",
    "        self.S = self.L*self.l\n",
    "        return self.S\n",
    "    \n",
    "    def GetP(self):\n",
    "        self.P = self.L*2+self.l*2\n",
    "        return self.P\n",
    "\n",
    "class Parallelepipede(Rectangle):\n",
    "    def __init__(self,hauteur):\n",
    "        self.h = hauteur\n",
    "        \n",
    "    def GetV(self):\n",
    "        self.V = self.h\n",
    "        return self.V\n",
    "            \n",
    "\n",
    "myRectangle = Rectangle(10,10)\n",
    "myParallelepipede = Parallelepipede(10)\n",
    "\n",
    "print(myRectangle.GetS())\n",
    "print(myRectangle.GetP())\n",
    "print(myParallelepipede.GetV())\n"
   ]
  },
  {
   "cell_type": "code",
   "execution_count": null,
   "metadata": {},
   "outputs": [],
   "source": []
  },
  {
   "cell_type": "code",
   "execution_count": null,
   "metadata": {},
   "outputs": [],
   "source": []
  },
  {
   "cell_type": "code",
   "execution_count": null,
   "metadata": {},
   "outputs": [],
   "source": []
  }
 ],
 "metadata": {
  "kernelspec": {
   "display_name": "Python 3",
   "language": "python",
   "name": "python3"
  },
  "language_info": {
   "codemirror_mode": {
    "name": "ipython",
    "version": 3
   },
   "file_extension": ".py",
   "mimetype": "text/x-python",
   "name": "python",
   "nbconvert_exporter": "python",
   "pygments_lexer": "ipython3",
   "version": "3.7.6"
  }
 },
 "nbformat": 4,
 "nbformat_minor": 4
}
